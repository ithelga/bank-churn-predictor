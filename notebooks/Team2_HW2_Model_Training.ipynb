{
  "nbformat": 4,
  "nbformat_minor": 0,
  "metadata": {
    "colab": {
      "provenance": [],
      "include_colab_link": true
    },
    "kernelspec": {
      "name": "python3",
      "display_name": "Python 3"
    },
    "language_info": {
      "name": "python"
    }
  },
  "cells": [
    {
      "cell_type": "markdown",
      "metadata": {
        "id": "view-in-github",
        "colab_type": "text"
      },
      "source": [
        "<a href=\"https://colab.research.google.com/github/ithelga/bank-churn-predictor/blob/main/notebooks/Team2_HW2_Model_Training.ipynb\" target=\"_parent\"><img src=\"https://colab.research.google.com/assets/colab-badge.svg\" alt=\"Open In Colab\"/></a>"
      ]
    },
    {
      "cell_type": "markdown",
      "source": [
        "# Инжиниринг признаков. Линейная и логистическая регрессия"
      ],
      "metadata": {
        "id": "W_aTsy_7reUP"
      }
    },
    {
      "cell_type": "code",
      "source": [
        "import numpy as np\n",
        "import pandas as pd\n",
        "from sklearn.pipeline import Pipeline\n",
        "from sklearn.metrics import roc_auc_score\n",
        "from sklearn.compose import ColumnTransformer\n",
        "from sklearn.model_selection import train_test_split\n",
        "from sklearn.linear_model import LogisticRegression\n",
        "from sklearn.ensemble import RandomForestClassifier\n",
        "from mlxtend.feature_selection import SequentialFeatureSelector as SFS\n",
        "from sklearn.preprocessing import PolynomialFeatures, MinMaxScaler, OneHotEncoder, OrdinalEncoder\n",
        "from sklearn.feature_selection import SelectKBest, f_classif, VarianceThreshold, SelectFromModel"
      ],
      "metadata": {
        "id": "jvFda1K2Ffzr"
      },
      "execution_count": null,
      "outputs": []
    },
    {
      "cell_type": "code",
      "source": [
        "import warnings\n",
        "warnings.filterwarnings('ignore')"
      ],
      "metadata": {
        "id": "l_AUpy1UsxZS"
      },
      "execution_count": null,
      "outputs": []
    },
    {
      "cell_type": "code",
      "source": [
        "from google.colab import drive\n",
        "drive.mount('/content/drive')"
      ],
      "metadata": {
        "colab": {
          "base_uri": "https://localhost:8080/"
        },
        "id": "iK_Gh8pyFkF2",
        "outputId": "b7bab93c-4121-46c3-8ca8-1ef8c76f9613"
      },
      "execution_count": null,
      "outputs": [
        {
          "output_type": "stream",
          "name": "stdout",
          "text": [
            "Mounted at /content/drive\n"
          ]
        }
      ]
    },
    {
      "cell_type": "code",
      "source": [
        "data_path = 'drive/MyDrive/Colab Notebooks/Bank churn predictor/data'\n",
        "row_df = pd.read_csv(f'{data_path}/row_dataset.csv')\n",
        "preprocessed_df = pd.read_csv(f'{data_path}/preprocessed_dataset.csv')"
      ],
      "metadata": {
        "id": "yzq3431ZFlLG"
      },
      "execution_count": null,
      "outputs": []
    },
    {
      "cell_type": "markdown",
      "source": [
        "# Генерация новых признаков"
      ],
      "metadata": {
        "id": "4aBnLUW8HQVH"
      }
    },
    {
      "cell_type": "markdown",
      "source": [
        "Будем работать с исходным датасетом для генерации новых признаков, предобработку выполняем аналогично спринту 1"
      ],
      "metadata": {
        "id": "5zC1it0gUFrm"
      }
    },
    {
      "cell_type": "code",
      "source": [
        "derived_df = row_df.copy()\n",
        "\n",
        "# Повторяем преобработку исходного датасета\n",
        "derived_df.drop(['RowNumber', 'CustomerId', 'Surname'], axis=1, inplace=True)\n",
        "derived_df['Geography'].fillna(derived_df['Geography'].mode()[0], inplace=True)\n",
        "derived_df['Age'].fillna(derived_df['Age'].median(), inplace=True)\n",
        "derived_df.dropna(inplace=True, ignore_index=True)\n",
        "derived_df.drop_duplicates(inplace=True, ignore_index=True)\n",
        "\n",
        "derived_df.head()"
      ],
      "metadata": {
        "colab": {
          "base_uri": "https://localhost:8080/",
          "height": 206
        },
        "id": "0A83_jwOLq6r",
        "outputId": "5808e11c-be69-49eb-ed24-dfc4c5a493a7"
      },
      "execution_count": null,
      "outputs": [
        {
          "output_type": "execute_result",
          "data": {
            "text/plain": [
              "   CreditScore Geography  Gender   Age  Tenure    Balance  NumOfProducts  \\\n",
              "0          619    France  Female  42.0       2       0.00              1   \n",
              "1          608     Spain  Female  41.0       1   83807.86              1   \n",
              "2          502    France  Female  42.0       8  159660.80              3   \n",
              "3          699    France  Female  39.0       1       0.00              2   \n",
              "4          645     Spain    Male  44.0       8  113755.78              2   \n",
              "\n",
              "   HasCrCard  IsActiveMember  EstimatedSalary  Exited  \n",
              "0        1.0             1.0        101348.88       1  \n",
              "1        0.0             1.0        112542.58       0  \n",
              "2        1.0             0.0        113931.57       1  \n",
              "3        0.0             0.0         93826.63       0  \n",
              "4        1.0             0.0        149756.71       1  "
            ],
            "text/html": [
              "\n",
              "  <div id=\"df-7f0ee2e4-478c-49da-ab8a-8953ae1b1c48\" class=\"colab-df-container\">\n",
              "    <div>\n",
              "<style scoped>\n",
              "    .dataframe tbody tr th:only-of-type {\n",
              "        vertical-align: middle;\n",
              "    }\n",
              "\n",
              "    .dataframe tbody tr th {\n",
              "        vertical-align: top;\n",
              "    }\n",
              "\n",
              "    .dataframe thead th {\n",
              "        text-align: right;\n",
              "    }\n",
              "</style>\n",
              "<table border=\"1\" class=\"dataframe\">\n",
              "  <thead>\n",
              "    <tr style=\"text-align: right;\">\n",
              "      <th></th>\n",
              "      <th>CreditScore</th>\n",
              "      <th>Geography</th>\n",
              "      <th>Gender</th>\n",
              "      <th>Age</th>\n",
              "      <th>Tenure</th>\n",
              "      <th>Balance</th>\n",
              "      <th>NumOfProducts</th>\n",
              "      <th>HasCrCard</th>\n",
              "      <th>IsActiveMember</th>\n",
              "      <th>EstimatedSalary</th>\n",
              "      <th>Exited</th>\n",
              "    </tr>\n",
              "  </thead>\n",
              "  <tbody>\n",
              "    <tr>\n",
              "      <th>0</th>\n",
              "      <td>619</td>\n",
              "      <td>France</td>\n",
              "      <td>Female</td>\n",
              "      <td>42.0</td>\n",
              "      <td>2</td>\n",
              "      <td>0.00</td>\n",
              "      <td>1</td>\n",
              "      <td>1.0</td>\n",
              "      <td>1.0</td>\n",
              "      <td>101348.88</td>\n",
              "      <td>1</td>\n",
              "    </tr>\n",
              "    <tr>\n",
              "      <th>1</th>\n",
              "      <td>608</td>\n",
              "      <td>Spain</td>\n",
              "      <td>Female</td>\n",
              "      <td>41.0</td>\n",
              "      <td>1</td>\n",
              "      <td>83807.86</td>\n",
              "      <td>1</td>\n",
              "      <td>0.0</td>\n",
              "      <td>1.0</td>\n",
              "      <td>112542.58</td>\n",
              "      <td>0</td>\n",
              "    </tr>\n",
              "    <tr>\n",
              "      <th>2</th>\n",
              "      <td>502</td>\n",
              "      <td>France</td>\n",
              "      <td>Female</td>\n",
              "      <td>42.0</td>\n",
              "      <td>8</td>\n",
              "      <td>159660.80</td>\n",
              "      <td>3</td>\n",
              "      <td>1.0</td>\n",
              "      <td>0.0</td>\n",
              "      <td>113931.57</td>\n",
              "      <td>1</td>\n",
              "    </tr>\n",
              "    <tr>\n",
              "      <th>3</th>\n",
              "      <td>699</td>\n",
              "      <td>France</td>\n",
              "      <td>Female</td>\n",
              "      <td>39.0</td>\n",
              "      <td>1</td>\n",
              "      <td>0.00</td>\n",
              "      <td>2</td>\n",
              "      <td>0.0</td>\n",
              "      <td>0.0</td>\n",
              "      <td>93826.63</td>\n",
              "      <td>0</td>\n",
              "    </tr>\n",
              "    <tr>\n",
              "      <th>4</th>\n",
              "      <td>645</td>\n",
              "      <td>Spain</td>\n",
              "      <td>Male</td>\n",
              "      <td>44.0</td>\n",
              "      <td>8</td>\n",
              "      <td>113755.78</td>\n",
              "      <td>2</td>\n",
              "      <td>1.0</td>\n",
              "      <td>0.0</td>\n",
              "      <td>149756.71</td>\n",
              "      <td>1</td>\n",
              "    </tr>\n",
              "  </tbody>\n",
              "</table>\n",
              "</div>\n",
              "    <div class=\"colab-df-buttons\">\n",
              "\n",
              "  <div class=\"colab-df-container\">\n",
              "    <button class=\"colab-df-convert\" onclick=\"convertToInteractive('df-7f0ee2e4-478c-49da-ab8a-8953ae1b1c48')\"\n",
              "            title=\"Convert this dataframe to an interactive table.\"\n",
              "            style=\"display:none;\">\n",
              "\n",
              "  <svg xmlns=\"http://www.w3.org/2000/svg\" height=\"24px\" viewBox=\"0 -960 960 960\">\n",
              "    <path d=\"M120-120v-720h720v720H120Zm60-500h600v-160H180v160Zm220 220h160v-160H400v160Zm0 220h160v-160H400v160ZM180-400h160v-160H180v160Zm440 0h160v-160H620v160ZM180-180h160v-160H180v160Zm440 0h160v-160H620v160Z\"/>\n",
              "  </svg>\n",
              "    </button>\n",
              "\n",
              "  <style>\n",
              "    .colab-df-container {\n",
              "      display:flex;\n",
              "      gap: 12px;\n",
              "    }\n",
              "\n",
              "    .colab-df-convert {\n",
              "      background-color: #E8F0FE;\n",
              "      border: none;\n",
              "      border-radius: 50%;\n",
              "      cursor: pointer;\n",
              "      display: none;\n",
              "      fill: #1967D2;\n",
              "      height: 32px;\n",
              "      padding: 0 0 0 0;\n",
              "      width: 32px;\n",
              "    }\n",
              "\n",
              "    .colab-df-convert:hover {\n",
              "      background-color: #E2EBFA;\n",
              "      box-shadow: 0px 1px 2px rgba(60, 64, 67, 0.3), 0px 1px 3px 1px rgba(60, 64, 67, 0.15);\n",
              "      fill: #174EA6;\n",
              "    }\n",
              "\n",
              "    .colab-df-buttons div {\n",
              "      margin-bottom: 4px;\n",
              "    }\n",
              "\n",
              "    [theme=dark] .colab-df-convert {\n",
              "      background-color: #3B4455;\n",
              "      fill: #D2E3FC;\n",
              "    }\n",
              "\n",
              "    [theme=dark] .colab-df-convert:hover {\n",
              "      background-color: #434B5C;\n",
              "      box-shadow: 0px 1px 3px 1px rgba(0, 0, 0, 0.15);\n",
              "      filter: drop-shadow(0px 1px 2px rgba(0, 0, 0, 0.3));\n",
              "      fill: #FFFFFF;\n",
              "    }\n",
              "  </style>\n",
              "\n",
              "    <script>\n",
              "      const buttonEl =\n",
              "        document.querySelector('#df-7f0ee2e4-478c-49da-ab8a-8953ae1b1c48 button.colab-df-convert');\n",
              "      buttonEl.style.display =\n",
              "        google.colab.kernel.accessAllowed ? 'block' : 'none';\n",
              "\n",
              "      async function convertToInteractive(key) {\n",
              "        const element = document.querySelector('#df-7f0ee2e4-478c-49da-ab8a-8953ae1b1c48');\n",
              "        const dataTable =\n",
              "          await google.colab.kernel.invokeFunction('convertToInteractive',\n",
              "                                                    [key], {});\n",
              "        if (!dataTable) return;\n",
              "\n",
              "        const docLinkHtml = 'Like what you see? Visit the ' +\n",
              "          '<a target=\"_blank\" href=https://colab.research.google.com/notebooks/data_table.ipynb>data table notebook</a>'\n",
              "          + ' to learn more about interactive tables.';\n",
              "        element.innerHTML = '';\n",
              "        dataTable['output_type'] = 'display_data';\n",
              "        await google.colab.output.renderOutput(dataTable, element);\n",
              "        const docLink = document.createElement('div');\n",
              "        docLink.innerHTML = docLinkHtml;\n",
              "        element.appendChild(docLink);\n",
              "      }\n",
              "    </script>\n",
              "  </div>\n",
              "\n",
              "\n",
              "    <div id=\"df-0dc3586c-cdd2-472d-8847-5df80eddc613\">\n",
              "      <button class=\"colab-df-quickchart\" onclick=\"quickchart('df-0dc3586c-cdd2-472d-8847-5df80eddc613')\"\n",
              "                title=\"Suggest charts\"\n",
              "                style=\"display:none;\">\n",
              "\n",
              "<svg xmlns=\"http://www.w3.org/2000/svg\" height=\"24px\"viewBox=\"0 0 24 24\"\n",
              "     width=\"24px\">\n",
              "    <g>\n",
              "        <path d=\"M19 3H5c-1.1 0-2 .9-2 2v14c0 1.1.9 2 2 2h14c1.1 0 2-.9 2-2V5c0-1.1-.9-2-2-2zM9 17H7v-7h2v7zm4 0h-2V7h2v10zm4 0h-2v-4h2v4z\"/>\n",
              "    </g>\n",
              "</svg>\n",
              "      </button>\n",
              "\n",
              "<style>\n",
              "  .colab-df-quickchart {\n",
              "      --bg-color: #E8F0FE;\n",
              "      --fill-color: #1967D2;\n",
              "      --hover-bg-color: #E2EBFA;\n",
              "      --hover-fill-color: #174EA6;\n",
              "      --disabled-fill-color: #AAA;\n",
              "      --disabled-bg-color: #DDD;\n",
              "  }\n",
              "\n",
              "  [theme=dark] .colab-df-quickchart {\n",
              "      --bg-color: #3B4455;\n",
              "      --fill-color: #D2E3FC;\n",
              "      --hover-bg-color: #434B5C;\n",
              "      --hover-fill-color: #FFFFFF;\n",
              "      --disabled-bg-color: #3B4455;\n",
              "      --disabled-fill-color: #666;\n",
              "  }\n",
              "\n",
              "  .colab-df-quickchart {\n",
              "    background-color: var(--bg-color);\n",
              "    border: none;\n",
              "    border-radius: 50%;\n",
              "    cursor: pointer;\n",
              "    display: none;\n",
              "    fill: var(--fill-color);\n",
              "    height: 32px;\n",
              "    padding: 0;\n",
              "    width: 32px;\n",
              "  }\n",
              "\n",
              "  .colab-df-quickchart:hover {\n",
              "    background-color: var(--hover-bg-color);\n",
              "    box-shadow: 0 1px 2px rgba(60, 64, 67, 0.3), 0 1px 3px 1px rgba(60, 64, 67, 0.15);\n",
              "    fill: var(--button-hover-fill-color);\n",
              "  }\n",
              "\n",
              "  .colab-df-quickchart-complete:disabled,\n",
              "  .colab-df-quickchart-complete:disabled:hover {\n",
              "    background-color: var(--disabled-bg-color);\n",
              "    fill: var(--disabled-fill-color);\n",
              "    box-shadow: none;\n",
              "  }\n",
              "\n",
              "  .colab-df-spinner {\n",
              "    border: 2px solid var(--fill-color);\n",
              "    border-color: transparent;\n",
              "    border-bottom-color: var(--fill-color);\n",
              "    animation:\n",
              "      spin 1s steps(1) infinite;\n",
              "  }\n",
              "\n",
              "  @keyframes spin {\n",
              "    0% {\n",
              "      border-color: transparent;\n",
              "      border-bottom-color: var(--fill-color);\n",
              "      border-left-color: var(--fill-color);\n",
              "    }\n",
              "    20% {\n",
              "      border-color: transparent;\n",
              "      border-left-color: var(--fill-color);\n",
              "      border-top-color: var(--fill-color);\n",
              "    }\n",
              "    30% {\n",
              "      border-color: transparent;\n",
              "      border-left-color: var(--fill-color);\n",
              "      border-top-color: var(--fill-color);\n",
              "      border-right-color: var(--fill-color);\n",
              "    }\n",
              "    40% {\n",
              "      border-color: transparent;\n",
              "      border-right-color: var(--fill-color);\n",
              "      border-top-color: var(--fill-color);\n",
              "    }\n",
              "    60% {\n",
              "      border-color: transparent;\n",
              "      border-right-color: var(--fill-color);\n",
              "    }\n",
              "    80% {\n",
              "      border-color: transparent;\n",
              "      border-right-color: var(--fill-color);\n",
              "      border-bottom-color: var(--fill-color);\n",
              "    }\n",
              "    90% {\n",
              "      border-color: transparent;\n",
              "      border-bottom-color: var(--fill-color);\n",
              "    }\n",
              "  }\n",
              "</style>\n",
              "\n",
              "      <script>\n",
              "        async function quickchart(key) {\n",
              "          const quickchartButtonEl =\n",
              "            document.querySelector('#' + key + ' button');\n",
              "          quickchartButtonEl.disabled = true;  // To prevent multiple clicks.\n",
              "          quickchartButtonEl.classList.add('colab-df-spinner');\n",
              "          try {\n",
              "            const charts = await google.colab.kernel.invokeFunction(\n",
              "                'suggestCharts', [key], {});\n",
              "          } catch (error) {\n",
              "            console.error('Error during call to suggestCharts:', error);\n",
              "          }\n",
              "          quickchartButtonEl.classList.remove('colab-df-spinner');\n",
              "          quickchartButtonEl.classList.add('colab-df-quickchart-complete');\n",
              "        }\n",
              "        (() => {\n",
              "          let quickchartButtonEl =\n",
              "            document.querySelector('#df-0dc3586c-cdd2-472d-8847-5df80eddc613 button');\n",
              "          quickchartButtonEl.style.display =\n",
              "            google.colab.kernel.accessAllowed ? 'block' : 'none';\n",
              "        })();\n",
              "      </script>\n",
              "    </div>\n",
              "    </div>\n",
              "  </div>\n"
            ],
            "application/vnd.google.colaboratory.intrinsic+json": {
              "type": "dataframe",
              "variable_name": "derived_df",
              "summary": "{\n  \"name\": \"derived_df\",\n  \"rows\": 9998,\n  \"fields\": [\n    {\n      \"column\": \"CreditScore\",\n      \"properties\": {\n        \"dtype\": \"number\",\n        \"std\": 96,\n        \"min\": 350,\n        \"max\": 850,\n        \"num_unique_values\": 460,\n        \"samples\": [\n          535,\n          520,\n          744\n        ],\n        \"semantic_type\": \"\",\n        \"description\": \"\"\n      }\n    },\n    {\n      \"column\": \"Geography\",\n      \"properties\": {\n        \"dtype\": \"category\",\n        \"num_unique_values\": 3,\n        \"samples\": [\n          \"France\",\n          \"Spain\",\n          \"Germany\"\n        ],\n        \"semantic_type\": \"\",\n        \"description\": \"\"\n      }\n    },\n    {\n      \"column\": \"Gender\",\n      \"properties\": {\n        \"dtype\": \"category\",\n        \"num_unique_values\": 2,\n        \"samples\": [\n          \"Male\",\n          \"Female\"\n        ],\n        \"semantic_type\": \"\",\n        \"description\": \"\"\n      }\n    },\n    {\n      \"column\": \"Age\",\n      \"properties\": {\n        \"dtype\": \"number\",\n        \"std\": 10.487974623565046,\n        \"min\": 18.0,\n        \"max\": 92.0,\n        \"num_unique_values\": 73,\n        \"samples\": [\n          50.0,\n          71.0\n        ],\n        \"semantic_type\": \"\",\n        \"description\": \"\"\n      }\n    },\n    {\n      \"column\": \"Tenure\",\n      \"properties\": {\n        \"dtype\": \"number\",\n        \"std\": 2,\n        \"min\": 0,\n        \"max\": 10,\n        \"num_unique_values\": 11,\n        \"samples\": [\n          6,\n          2\n        ],\n        \"semantic_type\": \"\",\n        \"description\": \"\"\n      }\n    },\n    {\n      \"column\": \"Balance\",\n      \"properties\": {\n        \"dtype\": \"number\",\n        \"std\": 62398.2735396148,\n        \"min\": 0.0,\n        \"max\": 250898.09,\n        \"num_unique_values\": 6380,\n        \"samples\": [\n          187602.18,\n          69518.95\n        ],\n        \"semantic_type\": \"\",\n        \"description\": \"\"\n      }\n    },\n    {\n      \"column\": \"NumOfProducts\",\n      \"properties\": {\n        \"dtype\": \"number\",\n        \"std\": 0,\n        \"min\": 1,\n        \"max\": 4,\n        \"num_unique_values\": 4,\n        \"samples\": [\n          3,\n          4\n        ],\n        \"semantic_type\": \"\",\n        \"description\": \"\"\n      }\n    },\n    {\n      \"column\": \"HasCrCard\",\n      \"properties\": {\n        \"dtype\": \"number\",\n        \"std\": 0.4558219327223667,\n        \"min\": 0.0,\n        \"max\": 1.0,\n        \"num_unique_values\": 2,\n        \"samples\": [\n          0.0,\n          1.0\n        ],\n        \"semantic_type\": \"\",\n        \"description\": \"\"\n      }\n    },\n    {\n      \"column\": \"IsActiveMember\",\n      \"properties\": {\n        \"dtype\": \"number\",\n        \"std\": 0.4997998549014327,\n        \"min\": 0.0,\n        \"max\": 1.0,\n        \"num_unique_values\": 2,\n        \"samples\": [\n          0.0,\n          1.0\n        ],\n        \"semantic_type\": \"\",\n        \"description\": \"\"\n      }\n    },\n    {\n      \"column\": \"EstimatedSalary\",\n      \"properties\": {\n        \"dtype\": \"number\",\n        \"std\": 57515.311385129564,\n        \"min\": 11.58,\n        \"max\": 199992.48,\n        \"num_unique_values\": 9997,\n        \"samples\": [\n          178342.63,\n          13813.24\n        ],\n        \"semantic_type\": \"\",\n        \"description\": \"\"\n      }\n    },\n    {\n      \"column\": \"Exited\",\n      \"properties\": {\n        \"dtype\": \"number\",\n        \"std\": 0,\n        \"min\": 0,\n        \"max\": 1,\n        \"num_unique_values\": 2,\n        \"samples\": [\n          0,\n          1\n        ],\n        \"semantic_type\": \"\",\n        \"description\": \"\"\n      }\n    }\n  ]\n}"
            }
          },
          "metadata": {},
          "execution_count": 194
        }
      ]
    },
    {
      "cell_type": "markdown",
      "source": [
        "### 1. Создание признаков на основе знаний"
      ],
      "metadata": {
        "id": "XsJJEelwR8z6"
      }
    },
    {
      "cell_type": "markdown",
      "source": [
        "Добавим доменные признаки:\n",
        "\n",
        "* `AgeGroup`: Категоризация возраста на группы (молодые, среднего возраста, пожилые).\n",
        "* `CreditScoreGroup`: Категоризация кредитного рейтинга (низкий, средний, высокий).\n",
        "* `TenureGroup`: Категоризация срока удержания клиента в банке на группы (новые, среднесрочные, долгосрочные).\n",
        "* `ZeroBalance`: Флаг, указывающий, что баланс клиента равен нулю.\n",
        "* `ActivityScore`: Произведение активности и количества продуктов как мера вовлеченности.\n",
        "* `TenureToAgeRatio`: Соотношения срока облуживания к возрасту, чтобы оценить долю жизни клиента, проведенную с банком.\n",
        "* `BalanceToSalaryRatio`: Соотношение баланса к зарплате как индикатор финансового поведения."
      ],
      "metadata": {
        "id": "OyeS4W3ZVvC1"
      }
    },
    {
      "cell_type": "code",
      "source": [
        "# Категоризация возраста\n",
        "def age_group(age):\n",
        "    if age < 30:\n",
        "        return 'Young'\n",
        "    elif age < 50:\n",
        "        return 'Middle'\n",
        "    else:\n",
        "        return 'Senior'\n",
        "\n",
        "derived_df['AgeGroup'] = derived_df['Age'].apply(age_group)"
      ],
      "metadata": {
        "id": "q3DKuG4oR6sO"
      },
      "execution_count": null,
      "outputs": []
    },
    {
      "cell_type": "code",
      "source": [
        "# Категоризация кредитного рейтинга\n",
        "def credit_score_group(score):\n",
        "    if score < 600:\n",
        "        return 'Low'\n",
        "    elif score < 700:\n",
        "        return 'Medium'\n",
        "    else:\n",
        "        return 'High'\n",
        "\n",
        "derived_df['CreditScoreGroup'] = derived_df['CreditScore'].apply(credit_score_group)"
      ],
      "metadata": {
        "id": "tIf9IsAdS9VE"
      },
      "execution_count": null,
      "outputs": []
    },
    {
      "cell_type": "code",
      "source": [
        "# Категоризация срока удержания клиента\n",
        "def tenure_group(tenure):\n",
        "    if tenure <= 2:\n",
        "        return 'New'\n",
        "    elif tenure <= 5:\n",
        "        return 'Medium'\n",
        "    else:\n",
        "        return 'LongTerm'\n",
        "\n",
        "derived_df['TenureGroup'] = derived_df['Tenure'].apply(tenure_group)"
      ],
      "metadata": {
        "id": "DwGqW3iOddKs"
      },
      "execution_count": null,
      "outputs": []
    },
    {
      "cell_type": "code",
      "source": [
        "# Флаг нулевого баланса\n",
        "derived_df['ZeroBalance'] = (derived_df['Balance'] == 0).astype(int)"
      ],
      "metadata": {
        "id": "VjHnRHReSl0w"
      },
      "execution_count": null,
      "outputs": []
    },
    {
      "cell_type": "code",
      "source": [
        "# Активность клиента (комбинация активности и количества продуктов)\n",
        "derived_df['ActivityScore'] = derived_df['IsActiveMember'] * derived_df['NumOfProducts']"
      ],
      "metadata": {
        "id": "FVDGl7J6S6mX"
      },
      "execution_count": null,
      "outputs": []
    },
    {
      "cell_type": "code",
      "source": [
        "# Соотношение срока удержания клиента к возрасту\n",
        "derived_df['TenureToAgeRatio'] = derived_df['Tenure'] / (derived_df['Age'] + 1e-5)  # Добавляем малое число для избежания деления на 0"
      ],
      "metadata": {
        "id": "6qi-Kiivd2Fq"
      },
      "execution_count": null,
      "outputs": []
    },
    {
      "cell_type": "code",
      "source": [
        "# Соотношение баланса к зарплате\n",
        "derived_df['BalanceToSalaryRatio'] = derived_df['Balance'] / (derived_df['EstimatedSalary'] + 1e-5)  # Добавляем малое число для избежания деления на 0"
      ],
      "metadata": {
        "id": "LgqOgSSsSsmt"
      },
      "execution_count": null,
      "outputs": []
    },
    {
      "cell_type": "code",
      "source": [
        "# Рассмотрим добавленные признаки на 5 произвольных строках\n",
        "derived_df.sample(5)"
      ],
      "metadata": {
        "colab": {
          "base_uri": "https://localhost:8080/",
          "height": 226
        },
        "id": "G78BRN5EWVi_",
        "outputId": "f967a575-9a89-4757-aa09-9ae5b2f4d965"
      },
      "execution_count": null,
      "outputs": [
        {
          "output_type": "execute_result",
          "data": {
            "text/plain": [
              "      CreditScore Geography  Gender   Age  Tenure  Balance  NumOfProducts  \\\n",
              "7273          669    France  Female  42.0       9      0.0              2   \n",
              "6245          678    France  Female  46.0       1      0.0              2   \n",
              "1981          748     Spain  Female  40.0       4      0.0              2   \n",
              "8283          609    France    Male  25.0      10      0.0              1   \n",
              "3506          426    France  Female  34.0       3      0.0              2   \n",
              "\n",
              "      HasCrCard  IsActiveMember  EstimatedSalary  Exited AgeGroup  \\\n",
              "7273        0.0             0.0        135630.32       0   Middle   \n",
              "6245        0.0             0.0         82106.19       0   Middle   \n",
              "1981        1.0             0.0        132368.47       0   Middle   \n",
              "8283        0.0             1.0        109895.16       0    Young   \n",
              "3506        1.0             1.0         61230.83       0   Middle   \n",
              "\n",
              "     CreditScoreGroup TenureGroup  ZeroBalance  ActivityScore  \\\n",
              "7273           Medium    LongTerm            1            0.0   \n",
              "6245           Medium         New            1            0.0   \n",
              "1981             High      Medium            1            0.0   \n",
              "8283           Medium    LongTerm            1            1.0   \n",
              "3506              Low      Medium            1            2.0   \n",
              "\n",
              "      TenureToAgeRatio  BalanceToSalaryRatio  \n",
              "7273          0.214286                   0.0  \n",
              "6245          0.021739                   0.0  \n",
              "1981          0.100000                   0.0  \n",
              "8283          0.400000                   0.0  \n",
              "3506          0.088235                   0.0  "
            ],
            "text/html": [
              "\n",
              "  <div id=\"df-a74f2045-9ccc-4159-8372-2d779b3edc3e\" class=\"colab-df-container\">\n",
              "    <div>\n",
              "<style scoped>\n",
              "    .dataframe tbody tr th:only-of-type {\n",
              "        vertical-align: middle;\n",
              "    }\n",
              "\n",
              "    .dataframe tbody tr th {\n",
              "        vertical-align: top;\n",
              "    }\n",
              "\n",
              "    .dataframe thead th {\n",
              "        text-align: right;\n",
              "    }\n",
              "</style>\n",
              "<table border=\"1\" class=\"dataframe\">\n",
              "  <thead>\n",
              "    <tr style=\"text-align: right;\">\n",
              "      <th></th>\n",
              "      <th>CreditScore</th>\n",
              "      <th>Geography</th>\n",
              "      <th>Gender</th>\n",
              "      <th>Age</th>\n",
              "      <th>Tenure</th>\n",
              "      <th>Balance</th>\n",
              "      <th>NumOfProducts</th>\n",
              "      <th>HasCrCard</th>\n",
              "      <th>IsActiveMember</th>\n",
              "      <th>EstimatedSalary</th>\n",
              "      <th>Exited</th>\n",
              "      <th>AgeGroup</th>\n",
              "      <th>CreditScoreGroup</th>\n",
              "      <th>TenureGroup</th>\n",
              "      <th>ZeroBalance</th>\n",
              "      <th>ActivityScore</th>\n",
              "      <th>TenureToAgeRatio</th>\n",
              "      <th>BalanceToSalaryRatio</th>\n",
              "    </tr>\n",
              "  </thead>\n",
              "  <tbody>\n",
              "    <tr>\n",
              "      <th>7273</th>\n",
              "      <td>669</td>\n",
              "      <td>France</td>\n",
              "      <td>Female</td>\n",
              "      <td>42.0</td>\n",
              "      <td>9</td>\n",
              "      <td>0.0</td>\n",
              "      <td>2</td>\n",
              "      <td>0.0</td>\n",
              "      <td>0.0</td>\n",
              "      <td>135630.32</td>\n",
              "      <td>0</td>\n",
              "      <td>Middle</td>\n",
              "      <td>Medium</td>\n",
              "      <td>LongTerm</td>\n",
              "      <td>1</td>\n",
              "      <td>0.0</td>\n",
              "      <td>0.214286</td>\n",
              "      <td>0.0</td>\n",
              "    </tr>\n",
              "    <tr>\n",
              "      <th>6245</th>\n",
              "      <td>678</td>\n",
              "      <td>France</td>\n",
              "      <td>Female</td>\n",
              "      <td>46.0</td>\n",
              "      <td>1</td>\n",
              "      <td>0.0</td>\n",
              "      <td>2</td>\n",
              "      <td>0.0</td>\n",
              "      <td>0.0</td>\n",
              "      <td>82106.19</td>\n",
              "      <td>0</td>\n",
              "      <td>Middle</td>\n",
              "      <td>Medium</td>\n",
              "      <td>New</td>\n",
              "      <td>1</td>\n",
              "      <td>0.0</td>\n",
              "      <td>0.021739</td>\n",
              "      <td>0.0</td>\n",
              "    </tr>\n",
              "    <tr>\n",
              "      <th>1981</th>\n",
              "      <td>748</td>\n",
              "      <td>Spain</td>\n",
              "      <td>Female</td>\n",
              "      <td>40.0</td>\n",
              "      <td>4</td>\n",
              "      <td>0.0</td>\n",
              "      <td>2</td>\n",
              "      <td>1.0</td>\n",
              "      <td>0.0</td>\n",
              "      <td>132368.47</td>\n",
              "      <td>0</td>\n",
              "      <td>Middle</td>\n",
              "      <td>High</td>\n",
              "      <td>Medium</td>\n",
              "      <td>1</td>\n",
              "      <td>0.0</td>\n",
              "      <td>0.100000</td>\n",
              "      <td>0.0</td>\n",
              "    </tr>\n",
              "    <tr>\n",
              "      <th>8283</th>\n",
              "      <td>609</td>\n",
              "      <td>France</td>\n",
              "      <td>Male</td>\n",
              "      <td>25.0</td>\n",
              "      <td>10</td>\n",
              "      <td>0.0</td>\n",
              "      <td>1</td>\n",
              "      <td>0.0</td>\n",
              "      <td>1.0</td>\n",
              "      <td>109895.16</td>\n",
              "      <td>0</td>\n",
              "      <td>Young</td>\n",
              "      <td>Medium</td>\n",
              "      <td>LongTerm</td>\n",
              "      <td>1</td>\n",
              "      <td>1.0</td>\n",
              "      <td>0.400000</td>\n",
              "      <td>0.0</td>\n",
              "    </tr>\n",
              "    <tr>\n",
              "      <th>3506</th>\n",
              "      <td>426</td>\n",
              "      <td>France</td>\n",
              "      <td>Female</td>\n",
              "      <td>34.0</td>\n",
              "      <td>3</td>\n",
              "      <td>0.0</td>\n",
              "      <td>2</td>\n",
              "      <td>1.0</td>\n",
              "      <td>1.0</td>\n",
              "      <td>61230.83</td>\n",
              "      <td>0</td>\n",
              "      <td>Middle</td>\n",
              "      <td>Low</td>\n",
              "      <td>Medium</td>\n",
              "      <td>1</td>\n",
              "      <td>2.0</td>\n",
              "      <td>0.088235</td>\n",
              "      <td>0.0</td>\n",
              "    </tr>\n",
              "  </tbody>\n",
              "</table>\n",
              "</div>\n",
              "    <div class=\"colab-df-buttons\">\n",
              "\n",
              "  <div class=\"colab-df-container\">\n",
              "    <button class=\"colab-df-convert\" onclick=\"convertToInteractive('df-a74f2045-9ccc-4159-8372-2d779b3edc3e')\"\n",
              "            title=\"Convert this dataframe to an interactive table.\"\n",
              "            style=\"display:none;\">\n",
              "\n",
              "  <svg xmlns=\"http://www.w3.org/2000/svg\" height=\"24px\" viewBox=\"0 -960 960 960\">\n",
              "    <path d=\"M120-120v-720h720v720H120Zm60-500h600v-160H180v160Zm220 220h160v-160H400v160Zm0 220h160v-160H400v160ZM180-400h160v-160H180v160Zm440 0h160v-160H620v160ZM180-180h160v-160H180v160Zm440 0h160v-160H620v160Z\"/>\n",
              "  </svg>\n",
              "    </button>\n",
              "\n",
              "  <style>\n",
              "    .colab-df-container {\n",
              "      display:flex;\n",
              "      gap: 12px;\n",
              "    }\n",
              "\n",
              "    .colab-df-convert {\n",
              "      background-color: #E8F0FE;\n",
              "      border: none;\n",
              "      border-radius: 50%;\n",
              "      cursor: pointer;\n",
              "      display: none;\n",
              "      fill: #1967D2;\n",
              "      height: 32px;\n",
              "      padding: 0 0 0 0;\n",
              "      width: 32px;\n",
              "    }\n",
              "\n",
              "    .colab-df-convert:hover {\n",
              "      background-color: #E2EBFA;\n",
              "      box-shadow: 0px 1px 2px rgba(60, 64, 67, 0.3), 0px 1px 3px 1px rgba(60, 64, 67, 0.15);\n",
              "      fill: #174EA6;\n",
              "    }\n",
              "\n",
              "    .colab-df-buttons div {\n",
              "      margin-bottom: 4px;\n",
              "    }\n",
              "\n",
              "    [theme=dark] .colab-df-convert {\n",
              "      background-color: #3B4455;\n",
              "      fill: #D2E3FC;\n",
              "    }\n",
              "\n",
              "    [theme=dark] .colab-df-convert:hover {\n",
              "      background-color: #434B5C;\n",
              "      box-shadow: 0px 1px 3px 1px rgba(0, 0, 0, 0.15);\n",
              "      filter: drop-shadow(0px 1px 2px rgba(0, 0, 0, 0.3));\n",
              "      fill: #FFFFFF;\n",
              "    }\n",
              "  </style>\n",
              "\n",
              "    <script>\n",
              "      const buttonEl =\n",
              "        document.querySelector('#df-a74f2045-9ccc-4159-8372-2d779b3edc3e button.colab-df-convert');\n",
              "      buttonEl.style.display =\n",
              "        google.colab.kernel.accessAllowed ? 'block' : 'none';\n",
              "\n",
              "      async function convertToInteractive(key) {\n",
              "        const element = document.querySelector('#df-a74f2045-9ccc-4159-8372-2d779b3edc3e');\n",
              "        const dataTable =\n",
              "          await google.colab.kernel.invokeFunction('convertToInteractive',\n",
              "                                                    [key], {});\n",
              "        if (!dataTable) return;\n",
              "\n",
              "        const docLinkHtml = 'Like what you see? Visit the ' +\n",
              "          '<a target=\"_blank\" href=https://colab.research.google.com/notebooks/data_table.ipynb>data table notebook</a>'\n",
              "          + ' to learn more about interactive tables.';\n",
              "        element.innerHTML = '';\n",
              "        dataTable['output_type'] = 'display_data';\n",
              "        await google.colab.output.renderOutput(dataTable, element);\n",
              "        const docLink = document.createElement('div');\n",
              "        docLink.innerHTML = docLinkHtml;\n",
              "        element.appendChild(docLink);\n",
              "      }\n",
              "    </script>\n",
              "  </div>\n",
              "\n",
              "\n",
              "    <div id=\"df-594e4f4a-136d-4873-a005-d337b0c0b94f\">\n",
              "      <button class=\"colab-df-quickchart\" onclick=\"quickchart('df-594e4f4a-136d-4873-a005-d337b0c0b94f')\"\n",
              "                title=\"Suggest charts\"\n",
              "                style=\"display:none;\">\n",
              "\n",
              "<svg xmlns=\"http://www.w3.org/2000/svg\" height=\"24px\"viewBox=\"0 0 24 24\"\n",
              "     width=\"24px\">\n",
              "    <g>\n",
              "        <path d=\"M19 3H5c-1.1 0-2 .9-2 2v14c0 1.1.9 2 2 2h14c1.1 0 2-.9 2-2V5c0-1.1-.9-2-2-2zM9 17H7v-7h2v7zm4 0h-2V7h2v10zm4 0h-2v-4h2v4z\"/>\n",
              "    </g>\n",
              "</svg>\n",
              "      </button>\n",
              "\n",
              "<style>\n",
              "  .colab-df-quickchart {\n",
              "      --bg-color: #E8F0FE;\n",
              "      --fill-color: #1967D2;\n",
              "      --hover-bg-color: #E2EBFA;\n",
              "      --hover-fill-color: #174EA6;\n",
              "      --disabled-fill-color: #AAA;\n",
              "      --disabled-bg-color: #DDD;\n",
              "  }\n",
              "\n",
              "  [theme=dark] .colab-df-quickchart {\n",
              "      --bg-color: #3B4455;\n",
              "      --fill-color: #D2E3FC;\n",
              "      --hover-bg-color: #434B5C;\n",
              "      --hover-fill-color: #FFFFFF;\n",
              "      --disabled-bg-color: #3B4455;\n",
              "      --disabled-fill-color: #666;\n",
              "  }\n",
              "\n",
              "  .colab-df-quickchart {\n",
              "    background-color: var(--bg-color);\n",
              "    border: none;\n",
              "    border-radius: 50%;\n",
              "    cursor: pointer;\n",
              "    display: none;\n",
              "    fill: var(--fill-color);\n",
              "    height: 32px;\n",
              "    padding: 0;\n",
              "    width: 32px;\n",
              "  }\n",
              "\n",
              "  .colab-df-quickchart:hover {\n",
              "    background-color: var(--hover-bg-color);\n",
              "    box-shadow: 0 1px 2px rgba(60, 64, 67, 0.3), 0 1px 3px 1px rgba(60, 64, 67, 0.15);\n",
              "    fill: var(--button-hover-fill-color);\n",
              "  }\n",
              "\n",
              "  .colab-df-quickchart-complete:disabled,\n",
              "  .colab-df-quickchart-complete:disabled:hover {\n",
              "    background-color: var(--disabled-bg-color);\n",
              "    fill: var(--disabled-fill-color);\n",
              "    box-shadow: none;\n",
              "  }\n",
              "\n",
              "  .colab-df-spinner {\n",
              "    border: 2px solid var(--fill-color);\n",
              "    border-color: transparent;\n",
              "    border-bottom-color: var(--fill-color);\n",
              "    animation:\n",
              "      spin 1s steps(1) infinite;\n",
              "  }\n",
              "\n",
              "  @keyframes spin {\n",
              "    0% {\n",
              "      border-color: transparent;\n",
              "      border-bottom-color: var(--fill-color);\n",
              "      border-left-color: var(--fill-color);\n",
              "    }\n",
              "    20% {\n",
              "      border-color: transparent;\n",
              "      border-left-color: var(--fill-color);\n",
              "      border-top-color: var(--fill-color);\n",
              "    }\n",
              "    30% {\n",
              "      border-color: transparent;\n",
              "      border-left-color: var(--fill-color);\n",
              "      border-top-color: var(--fill-color);\n",
              "      border-right-color: var(--fill-color);\n",
              "    }\n",
              "    40% {\n",
              "      border-color: transparent;\n",
              "      border-right-color: var(--fill-color);\n",
              "      border-top-color: var(--fill-color);\n",
              "    }\n",
              "    60% {\n",
              "      border-color: transparent;\n",
              "      border-right-color: var(--fill-color);\n",
              "    }\n",
              "    80% {\n",
              "      border-color: transparent;\n",
              "      border-right-color: var(--fill-color);\n",
              "      border-bottom-color: var(--fill-color);\n",
              "    }\n",
              "    90% {\n",
              "      border-color: transparent;\n",
              "      border-bottom-color: var(--fill-color);\n",
              "    }\n",
              "  }\n",
              "</style>\n",
              "\n",
              "      <script>\n",
              "        async function quickchart(key) {\n",
              "          const quickchartButtonEl =\n",
              "            document.querySelector('#' + key + ' button');\n",
              "          quickchartButtonEl.disabled = true;  // To prevent multiple clicks.\n",
              "          quickchartButtonEl.classList.add('colab-df-spinner');\n",
              "          try {\n",
              "            const charts = await google.colab.kernel.invokeFunction(\n",
              "                'suggestCharts', [key], {});\n",
              "          } catch (error) {\n",
              "            console.error('Error during call to suggestCharts:', error);\n",
              "          }\n",
              "          quickchartButtonEl.classList.remove('colab-df-spinner');\n",
              "          quickchartButtonEl.classList.add('colab-df-quickchart-complete');\n",
              "        }\n",
              "        (() => {\n",
              "          let quickchartButtonEl =\n",
              "            document.querySelector('#df-594e4f4a-136d-4873-a005-d337b0c0b94f button');\n",
              "          quickchartButtonEl.style.display =\n",
              "            google.colab.kernel.accessAllowed ? 'block' : 'none';\n",
              "        })();\n",
              "      </script>\n",
              "    </div>\n",
              "    </div>\n",
              "  </div>\n"
            ],
            "application/vnd.google.colaboratory.intrinsic+json": {
              "type": "dataframe",
              "summary": "{\n  \"name\": \"derived_df\",\n  \"rows\": 5,\n  \"fields\": [\n    {\n      \"column\": \"CreditScore\",\n      \"properties\": {\n        \"dtype\": \"number\",\n        \"std\": 122,\n        \"min\": 426,\n        \"max\": 748,\n        \"num_unique_values\": 5,\n        \"samples\": [\n          678,\n          426,\n          748\n        ],\n        \"semantic_type\": \"\",\n        \"description\": \"\"\n      }\n    },\n    {\n      \"column\": \"Geography\",\n      \"properties\": {\n        \"dtype\": \"category\",\n        \"num_unique_values\": 2,\n        \"samples\": [\n          \"Spain\",\n          \"France\"\n        ],\n        \"semantic_type\": \"\",\n        \"description\": \"\"\n      }\n    },\n    {\n      \"column\": \"Gender\",\n      \"properties\": {\n        \"dtype\": \"category\",\n        \"num_unique_values\": 2,\n        \"samples\": [\n          \"Male\",\n          \"Female\"\n        ],\n        \"semantic_type\": \"\",\n        \"description\": \"\"\n      }\n    },\n    {\n      \"column\": \"Age\",\n      \"properties\": {\n        \"dtype\": \"number\",\n        \"std\": 8.17312669668102,\n        \"min\": 25.0,\n        \"max\": 46.0,\n        \"num_unique_values\": 5,\n        \"samples\": [\n          46.0,\n          34.0\n        ],\n        \"semantic_type\": \"\",\n        \"description\": \"\"\n      }\n    },\n    {\n      \"column\": \"Tenure\",\n      \"properties\": {\n        \"dtype\": \"number\",\n        \"std\": 3,\n        \"min\": 1,\n        \"max\": 10,\n        \"num_unique_values\": 5,\n        \"samples\": [\n          1,\n          3\n        ],\n        \"semantic_type\": \"\",\n        \"description\": \"\"\n      }\n    },\n    {\n      \"column\": \"Balance\",\n      \"properties\": {\n        \"dtype\": \"number\",\n        \"std\": 0.0,\n        \"min\": 0.0,\n        \"max\": 0.0,\n        \"num_unique_values\": 1,\n        \"samples\": [\n          0.0\n        ],\n        \"semantic_type\": \"\",\n        \"description\": \"\"\n      }\n    },\n    {\n      \"column\": \"NumOfProducts\",\n      \"properties\": {\n        \"dtype\": \"number\",\n        \"std\": 0,\n        \"min\": 1,\n        \"max\": 2,\n        \"num_unique_values\": 2,\n        \"samples\": [\n          1\n        ],\n        \"semantic_type\": \"\",\n        \"description\": \"\"\n      }\n    },\n    {\n      \"column\": \"HasCrCard\",\n      \"properties\": {\n        \"dtype\": \"number\",\n        \"std\": 0.5477225575051662,\n        \"min\": 0.0,\n        \"max\": 1.0,\n        \"num_unique_values\": 2,\n        \"samples\": [\n          1.0\n        ],\n        \"semantic_type\": \"\",\n        \"description\": \"\"\n      }\n    },\n    {\n      \"column\": \"IsActiveMember\",\n      \"properties\": {\n        \"dtype\": \"number\",\n        \"std\": 0.5477225575051662,\n        \"min\": 0.0,\n        \"max\": 1.0,\n        \"num_unique_values\": 2,\n        \"samples\": [\n          1.0\n        ],\n        \"semantic_type\": \"\",\n        \"description\": \"\"\n      }\n    },\n    {\n      \"column\": \"EstimatedSalary\",\n      \"properties\": {\n        \"dtype\": \"number\",\n        \"std\": 32203.407840808246,\n        \"min\": 61230.83,\n        \"max\": 135630.32,\n        \"num_unique_values\": 5,\n        \"samples\": [\n          82106.19\n        ],\n        \"semantic_type\": \"\",\n        \"description\": \"\"\n      }\n    },\n    {\n      \"column\": \"Exited\",\n      \"properties\": {\n        \"dtype\": \"number\",\n        \"std\": 0,\n        \"min\": 0,\n        \"max\": 0,\n        \"num_unique_values\": 1,\n        \"samples\": [\n          0\n        ],\n        \"semantic_type\": \"\",\n        \"description\": \"\"\n      }\n    },\n    {\n      \"column\": \"AgeGroup\",\n      \"properties\": {\n        \"dtype\": \"category\",\n        \"num_unique_values\": 2,\n        \"samples\": [\n          \"Young\"\n        ],\n        \"semantic_type\": \"\",\n        \"description\": \"\"\n      }\n    },\n    {\n      \"column\": \"CreditScoreGroup\",\n      \"properties\": {\n        \"dtype\": \"string\",\n        \"num_unique_values\": 3,\n        \"samples\": [\n          \"Medium\"\n        ],\n        \"semantic_type\": \"\",\n        \"description\": \"\"\n      }\n    },\n    {\n      \"column\": \"TenureGroup\",\n      \"properties\": {\n        \"dtype\": \"string\",\n        \"num_unique_values\": 3,\n        \"samples\": [\n          \"LongTerm\"\n        ],\n        \"semantic_type\": \"\",\n        \"description\": \"\"\n      }\n    },\n    {\n      \"column\": \"ZeroBalance\",\n      \"properties\": {\n        \"dtype\": \"number\",\n        \"std\": 0,\n        \"min\": 1,\n        \"max\": 1,\n        \"num_unique_values\": 1,\n        \"samples\": [\n          1\n        ],\n        \"semantic_type\": \"\",\n        \"description\": \"\"\n      }\n    },\n    {\n      \"column\": \"ActivityScore\",\n      \"properties\": {\n        \"dtype\": \"number\",\n        \"std\": 0.8944271909999159,\n        \"min\": 0.0,\n        \"max\": 2.0,\n        \"num_unique_values\": 3,\n        \"samples\": [\n          0.0\n        ],\n        \"semantic_type\": \"\",\n        \"description\": \"\"\n      }\n    },\n    {\n      \"column\": \"TenureToAgeRatio\",\n      \"properties\": {\n        \"dtype\": \"number\",\n        \"std\": 0.14857270716041146,\n        \"min\": 0.021739125708885716,\n        \"max\": 0.399999840000064,\n        \"num_unique_values\": 5,\n        \"samples\": [\n          0.021739125708885716\n        ],\n        \"semantic_type\": \"\",\n        \"description\": \"\"\n      }\n    },\n    {\n      \"column\": \"BalanceToSalaryRatio\",\n      \"properties\": {\n        \"dtype\": \"number\",\n        \"std\": 0.0,\n        \"min\": 0.0,\n        \"max\": 0.0,\n        \"num_unique_values\": 1,\n        \"samples\": [\n          0.0\n        ],\n        \"semantic_type\": \"\",\n        \"description\": \"\"\n      }\n    }\n  ]\n}"
            }
          },
          "metadata": {},
          "execution_count": 202
        }
      ]
    },
    {
      "cell_type": "markdown",
      "source": [
        "### 2. Создание признаков на основе взаимодействий"
      ],
      "metadata": {
        "id": "BSF8eb6ATGQc"
      }
    },
    {
      "cell_type": "markdown",
      "source": [
        "Добавим полиномиальные признаки. Используем `PolynomialFeatures` для создания квадратов и попарных произведений числовых признаков (`Age`^2, `Age` * `Balance` и т.д.):\n",
        "* `CreditScore` (кредитного рейтинга),\n",
        "* `Age` (возраста),\n",
        "* `Balance` (баланса),\n",
        "* `NumOfProducts` (количества продуктов),\n",
        "* `EstimatedSalary` (заработной платы)."
      ],
      "metadata": {
        "id": "jg7MOMSxWrGQ"
      }
    },
    {
      "cell_type": "code",
      "source": [
        "# Выделяем числовые признаки для полиномиальных взаимодействий\n",
        "numeric_features = ['CreditScore', 'Age', 'Tenure', 'Balance', 'NumOfProducts', 'EstimatedSalary']\n",
        "poly = PolynomialFeatures(degree=(2, 2), include_bias=False, interaction_only=False)\n",
        "poly_features = poly.fit_transform(derived_df[numeric_features])"
      ],
      "metadata": {
        "id": "ID-NKlVkYtNQ"
      },
      "execution_count": null,
      "outputs": []
    },
    {
      "cell_type": "code",
      "source": [
        "# Названия новых полиномиальных признаков\n",
        "poly_feature_names = poly.get_feature_names_out(numeric_features)\n",
        "poly_df = pd.DataFrame(poly_features, columns=poly_feature_names, index=derived_df.index)"
      ],
      "metadata": {
        "id": "GGw_MM4IYtET"
      },
      "execution_count": null,
      "outputs": []
    },
    {
      "cell_type": "code",
      "source": [
        "# Объединяем полиномиальные признаки с основным датафреймом\n",
        "derived_df = pd.concat([derived_df, poly_df], axis=1)"
      ],
      "metadata": {
        "id": "ScHbbGyCTLyC"
      },
      "execution_count": null,
      "outputs": []
    },
    {
      "cell_type": "markdown",
      "source": [
        "### 3. Обработка добавленных признаков"
      ],
      "metadata": {
        "id": "g4gb5lpNTU-2"
      }
    },
    {
      "cell_type": "code",
      "source": [
        "# Категориальные признаки\n",
        "categorical_features = ['Geography', 'AgeGroup', 'CreditScoreGroup', 'TenureGroup']\n",
        "binary_feature = ['Gender'] # Бинарный признак\n",
        "# Обновляем список числовых признаков, включая полиномиальные\n",
        "numeric_features_extended = numeric_features + list(poly_feature_names)"
      ],
      "metadata": {
        "id": "AC81sX0oTT3m"
      },
      "execution_count": null,
      "outputs": []
    },
    {
      "cell_type": "code",
      "source": [
        "# Создаем pipeline для обработки\n",
        "preprocessor = ColumnTransformer(\n",
        "    transformers=[\n",
        "        ('cat', OneHotEncoder(sparse_output=False), categorical_features),\n",
        "        ('num', MinMaxScaler(), numeric_features_extended),\n",
        "        ('bin', OrdinalEncoder(), binary_feature)\n",
        "    ])\n",
        "\n",
        "# Применяем преобразования\n",
        "derived_df_transformed = preprocessor.fit_transform(derived_df)\n",
        "# Выделяем целевую переменную\n",
        "Y = derived_df['Exited']"
      ],
      "metadata": {
        "id": "tT5BAGRZhacd"
      },
      "execution_count": null,
      "outputs": []
    },
    {
      "cell_type": "code",
      "source": [
        "# Названия признаков после обработки\n",
        "bin_feature_names = binary_feature\n",
        "cat_feature_names = preprocessor.named_transformers_['cat'].get_feature_names_out(categorical_features)\n",
        "all_feature_names = list(cat_feature_names) + numeric_features_extended + bin_feature_names"
      ],
      "metadata": {
        "id": "bahVI6-NhlRK"
      },
      "execution_count": null,
      "outputs": []
    },
    {
      "cell_type": "code",
      "source": [
        "# Полученный датасет + целевая переменная\n",
        "derived_df = pd.DataFrame(derived_df_transformed, columns=all_feature_names)\n",
        "derived_df = pd.concat([derived_df, Y], axis=1)"
      ],
      "metadata": {
        "id": "twppniQXnEDm"
      },
      "execution_count": null,
      "outputs": []
    },
    {
      "cell_type": "markdown",
      "source": [
        "# Отбор признаков"
      ],
      "metadata": {
        "id": "XvwCNGzyPWsi"
      }
    },
    {
      "cell_type": "markdown",
      "source": [
        "Целевая переменная — Exited (бинарная классификация). Так как классы несбалансированы, в качестве метрики будем использовать AUC-ROC (альтерватива - F1-score)."
      ],
      "metadata": {
        "id": "DCoI4U90DuFR"
      }
    },
    {
      "cell_type": "code",
      "source": [
        "Y = derived_df['Exited']\n",
        "X = derived_df.drop(['Exited'], axis=1)\n",
        "# Разделение на обучающую и тестовую выборки\n",
        "X_train, X_test, Y_train, Y_test = train_test_split(X, Y, test_size=0.2, random_state=42, stratify=Y)"
      ],
      "metadata": {
        "id": "li36feFJEH2M"
      },
      "execution_count": null,
      "outputs": []
    },
    {
      "cell_type": "code",
      "source": [
        "# Инициализация словарей для хранения отобранных признаков\n",
        "selected_features = {}"
      ],
      "metadata": {
        "id": "lDaq6fnY1TYH"
      },
      "execution_count": null,
      "outputs": []
    },
    {
      "cell_type": "markdown",
      "source": [
        "### 1. Статистические методы"
      ],
      "metadata": {
        "id": "CFxvEPWBwv7t"
      }
    },
    {
      "cell_type": "code",
      "source": [
        "# 1.1 SelectKBest с ANOVA\n",
        "k_best = SelectKBest(score_func=f_classif, k=10)  # Выбираем топ-10 признаков\n",
        "k_best.fit(X_train, Y_train)\n",
        "k_best_features = X_train.columns[k_best.get_support()].tolist()\n",
        "selected_features['SelectKBest'] = k_best_features"
      ],
      "metadata": {
        "id": "Knh_yRVZCdYn"
      },
      "execution_count": null,
      "outputs": []
    },
    {
      "cell_type": "code",
      "source": [
        "# 1.2 VarianceThreshold\n",
        "var_thresh = VarianceThreshold(threshold=0.1)  # Удаляем признаки с дисперсией < 0.1\n",
        "var_thresh.fit(X_train)\n",
        "var_thresh_features = X_train.columns[var_thresh.get_support()].tolist()\n",
        "selected_features['VarianceThreshold'] = var_thresh_features"
      ],
      "metadata": {
        "id": "nQZuQmPrChmZ"
      },
      "execution_count": null,
      "outputs": []
    },
    {
      "cell_type": "markdown",
      "source": [
        "### 2. Отбор на основе моделей"
      ],
      "metadata": {
        "id": "ou1yqrpmC2i8"
      }
    },
    {
      "cell_type": "code",
      "source": [
        "# 2.1 SelectFromModel с логистической регрессией (L1-регуляризация)\n",
        "lr_model = LogisticRegression(penalty='l1', solver='liblinear', C=1.0, random_state=42)\n",
        "lr_selector = SelectFromModel(lr_model, max_features=10)\n",
        "lr_selector.fit(X_train, Y_train)\n",
        "lr_features = X_train.columns[lr_selector.get_support()].tolist()\n",
        "selected_features['LogisticRegression'] = lr_features"
      ],
      "metadata": {
        "id": "Rn8i61SIC6fU"
      },
      "execution_count": null,
      "outputs": []
    },
    {
      "cell_type": "code",
      "source": [
        "# 2.2 SelectFromModel с Random Forest\n",
        "rf_model = RandomForestClassifier(n_estimators=100, random_state=42)\n",
        "rf_selector = SelectFromModel(rf_model, max_features=10)\n",
        "rf_selector.fit(X_train, Y_train)  # Random Forest не требует масштабирования\n",
        "rf_features = X_train.columns[rf_selector.get_support()].tolist()\n",
        "selected_features['RandomForest'] = rf_features"
      ],
      "metadata": {
        "id": "OTZkf24GC8Op"
      },
      "execution_count": null,
      "outputs": []
    },
    {
      "cell_type": "markdown",
      "source": [
        "### 3. Sequential Feature Selection (SFS)"
      ],
      "metadata": {
        "id": "vY9uvXkiC_ag"
      }
    },
    {
      "cell_type": "code",
      "source": [
        "sfs_model = LogisticRegression(random_state=42)\n",
        "sfs = SFS(sfs_model,\n",
        "          k_features=10,  # Выбираем 10 признаков\n",
        "          forward=True,   # Прямой отбор\n",
        "          floating=False,\n",
        "          scoring='roc_auc',\n",
        "          cv=5,\n",
        "          n_jobs=-1)\n",
        "sfs.fit(X_train, Y_train)\n",
        "sfs_features = X_train.columns[list(sfs.k_feature_idx_)].tolist()\n",
        "selected_features['SFS'] = sfs_features"
      ],
      "metadata": {
        "id": "hd2TpELsDCGG"
      },
      "execution_count": null,
      "outputs": []
    },
    {
      "cell_type": "markdown",
      "source": [
        "### 4. Оценка результатов"
      ],
      "metadata": {
        "id": "VwiMw92UGb1o"
      }
    },
    {
      "cell_type": "code",
      "source": [
        "# Вывод результатов\n",
        "print(\"Отобранные признаки для каждого метода:\")\n",
        "for method, features in selected_features.items():\n",
        "    print(f\"\\n{method}: {len(features)} признаков\")\n",
        "    print(features)"
      ],
      "metadata": {
        "colab": {
          "base_uri": "https://localhost:8080/"
        },
        "id": "BwbPNzLTDjBM",
        "outputId": "1291ad1e-969a-4cc2-ef20-903fabb05d91"
      },
      "execution_count": null,
      "outputs": [
        {
          "output_type": "stream",
          "name": "stdout",
          "text": [
            "Отобранные признаки для каждого метода:\n",
            "\n",
            "SelectKBest: 10 признаков\n",
            "['Geography_Germany', 'AgeGroup_Senior', 'AgeGroup_Young', 'Age', 'Balance', 'CreditScore Age', 'Age^2', 'Age Balance', 'Age EstimatedSalary', 'Balance NumOfProducts']\n",
            "\n",
            "VarianceThreshold: 13 признаков\n",
            "['Geography_France', 'Geography_Germany', 'Geography_Spain', 'AgeGroup_Middle', 'AgeGroup_Senior', 'AgeGroup_Young', 'CreditScoreGroup_High', 'CreditScoreGroup_Low', 'CreditScoreGroup_Medium', 'TenureGroup_LongTerm', 'TenureGroup_Medium', 'TenureGroup_New', 'Gender']\n",
            "\n",
            "LogisticRegression: 10 признаков\n",
            "['Geography_France', 'Age', 'Tenure', 'Balance', 'NumOfProducts', 'CreditScore EstimatedSalary', 'Age^2', 'Balance^2', 'Balance NumOfProducts', 'NumOfProducts^2']\n",
            "\n",
            "RandomForest: 10 признаков\n",
            "['Age', 'NumOfProducts', 'CreditScore Age', 'CreditScore NumOfProducts', 'Age^2', 'Age Balance', 'Age NumOfProducts', 'Balance NumOfProducts', 'NumOfProducts^2', 'NumOfProducts EstimatedSalary']\n",
            "\n",
            "SFS: 10 признаков\n",
            "['Geography_Germany', 'Age', 'Balance', 'NumOfProducts', 'CreditScore NumOfProducts', 'Age^2', 'Age Balance', 'Balance NumOfProducts', 'NumOfProducts^2', 'Gender']\n"
          ]
        }
      ]
    },
    {
      "cell_type": "code",
      "source": [
        "# Оценка логистической регрессии на отобранных признаках\n",
        "results = {}\n",
        "for method, features in selected_features.items():\n",
        "    # Выбираем подмножество столбцов\n",
        "    X_train_subset = X_train[features]\n",
        "    X_test_subset = X_test[features]\n",
        "\n",
        "    model = LogisticRegression(random_state=42)\n",
        "    model.fit(X_train_subset, Y_train)\n",
        "    Y_pred = model.predict(X_test_subset)\n",
        "    roc_auc = roc_auc_score(Y_test, Y_pred)\n",
        "    results[method] = roc_auc"
      ],
      "metadata": {
        "id": "9VsaJqLUDk9k"
      },
      "execution_count": null,
      "outputs": []
    },
    {
      "cell_type": "code",
      "source": [
        "# Вывод результатов оценки\n",
        "print(\"ROC-AUC логистической регрессии на тестовом наборе:\")\n",
        "for method, roc_auc in results.items():\n",
        "    print(f\"{method}: {roc_auc:.4f}\")"
      ],
      "metadata": {
        "colab": {
          "base_uri": "https://localhost:8080/"
        },
        "id": "kvwWqJLTGibt",
        "outputId": "e5a49427-e36d-4fae-dcb2-cc87c4cde106"
      },
      "execution_count": null,
      "outputs": [
        {
          "output_type": "stream",
          "name": "stdout",
          "text": [
            "ROC-AUC логистической регрессии на тестовом наборе:\n",
            "SelectKBest: 0.5424\n",
            "VarianceThreshold: 0.5372\n",
            "LogisticRegression: 0.5369\n",
            "RandomForest: 0.5314\n",
            "SFS: 0.5648\n"
          ]
        }
      ]
    },
    {
      "cell_type": "markdown",
      "source": [
        "По результатам оценки ROC_AUC лучший результат показал набор признаков, полученный при помощи SFS."
      ],
      "metadata": {
        "id": "MfbGo1hMNMkh"
      }
    },
    {
      "cell_type": "code",
      "source": [
        "# Полученный датафрейм\n",
        "extract_df = pd.concat([derived_df[selected_features['SFS']], Y], axis=1)\n",
        "extract_df.head()"
      ],
      "metadata": {
        "colab": {
          "base_uri": "https://localhost:8080/",
          "height": 206
        },
        "id": "M4bbZDeJNjIY",
        "outputId": "3adf492c-b4bf-4380-959f-63f69a9a26c6"
      },
      "execution_count": null,
      "outputs": [
        {
          "output_type": "execute_result",
          "data": {
            "text/plain": [
              "   Geography_Germany       Age   Balance  NumOfProducts  \\\n",
              "0                0.0  0.324324  0.000000       0.000000   \n",
              "1                0.0  0.310811  0.334031       0.000000   \n",
              "2                0.0  0.324324  0.636357       0.666667   \n",
              "3                0.0  0.283784  0.000000       0.333333   \n",
              "4                0.0  0.351351  0.453394       0.333333   \n",
              "\n",
              "   CreditScore NumOfProducts     Age^2  Age Balance  Balance NumOfProducts  \\\n",
              "0                   0.088197  0.176904     0.000000               0.000000   \n",
              "1                   0.084590  0.166708     0.249049               0.107315   \n",
              "2                   0.379016  0.176904     0.486031               0.613331   \n",
              "3                   0.343607  0.147052     0.000000               0.000000   \n",
              "4                   0.308197  0.198034     0.362780               0.291325   \n",
              "\n",
              "   NumOfProducts^2  Gender  Exited  \n",
              "0         0.000000     0.0       1  \n",
              "1         0.000000     0.0       0  \n",
              "2         0.533333     0.0       1  \n",
              "3         0.200000     0.0       0  \n",
              "4         0.200000     1.0       1  "
            ],
            "text/html": [
              "\n",
              "  <div id=\"df-7a77091f-29a9-4135-a7cf-3f07a8ad0c4e\" class=\"colab-df-container\">\n",
              "    <div>\n",
              "<style scoped>\n",
              "    .dataframe tbody tr th:only-of-type {\n",
              "        vertical-align: middle;\n",
              "    }\n",
              "\n",
              "    .dataframe tbody tr th {\n",
              "        vertical-align: top;\n",
              "    }\n",
              "\n",
              "    .dataframe thead th {\n",
              "        text-align: right;\n",
              "    }\n",
              "</style>\n",
              "<table border=\"1\" class=\"dataframe\">\n",
              "  <thead>\n",
              "    <tr style=\"text-align: right;\">\n",
              "      <th></th>\n",
              "      <th>Geography_Germany</th>\n",
              "      <th>Age</th>\n",
              "      <th>Balance</th>\n",
              "      <th>NumOfProducts</th>\n",
              "      <th>CreditScore NumOfProducts</th>\n",
              "      <th>Age^2</th>\n",
              "      <th>Age Balance</th>\n",
              "      <th>Balance NumOfProducts</th>\n",
              "      <th>NumOfProducts^2</th>\n",
              "      <th>Gender</th>\n",
              "      <th>Exited</th>\n",
              "    </tr>\n",
              "  </thead>\n",
              "  <tbody>\n",
              "    <tr>\n",
              "      <th>0</th>\n",
              "      <td>0.0</td>\n",
              "      <td>0.324324</td>\n",
              "      <td>0.000000</td>\n",
              "      <td>0.000000</td>\n",
              "      <td>0.088197</td>\n",
              "      <td>0.176904</td>\n",
              "      <td>0.000000</td>\n",
              "      <td>0.000000</td>\n",
              "      <td>0.000000</td>\n",
              "      <td>0.0</td>\n",
              "      <td>1</td>\n",
              "    </tr>\n",
              "    <tr>\n",
              "      <th>1</th>\n",
              "      <td>0.0</td>\n",
              "      <td>0.310811</td>\n",
              "      <td>0.334031</td>\n",
              "      <td>0.000000</td>\n",
              "      <td>0.084590</td>\n",
              "      <td>0.166708</td>\n",
              "      <td>0.249049</td>\n",
              "      <td>0.107315</td>\n",
              "      <td>0.000000</td>\n",
              "      <td>0.0</td>\n",
              "      <td>0</td>\n",
              "    </tr>\n",
              "    <tr>\n",
              "      <th>2</th>\n",
              "      <td>0.0</td>\n",
              "      <td>0.324324</td>\n",
              "      <td>0.636357</td>\n",
              "      <td>0.666667</td>\n",
              "      <td>0.379016</td>\n",
              "      <td>0.176904</td>\n",
              "      <td>0.486031</td>\n",
              "      <td>0.613331</td>\n",
              "      <td>0.533333</td>\n",
              "      <td>0.0</td>\n",
              "      <td>1</td>\n",
              "    </tr>\n",
              "    <tr>\n",
              "      <th>3</th>\n",
              "      <td>0.0</td>\n",
              "      <td>0.283784</td>\n",
              "      <td>0.000000</td>\n",
              "      <td>0.333333</td>\n",
              "      <td>0.343607</td>\n",
              "      <td>0.147052</td>\n",
              "      <td>0.000000</td>\n",
              "      <td>0.000000</td>\n",
              "      <td>0.200000</td>\n",
              "      <td>0.0</td>\n",
              "      <td>0</td>\n",
              "    </tr>\n",
              "    <tr>\n",
              "      <th>4</th>\n",
              "      <td>0.0</td>\n",
              "      <td>0.351351</td>\n",
              "      <td>0.453394</td>\n",
              "      <td>0.333333</td>\n",
              "      <td>0.308197</td>\n",
              "      <td>0.198034</td>\n",
              "      <td>0.362780</td>\n",
              "      <td>0.291325</td>\n",
              "      <td>0.200000</td>\n",
              "      <td>1.0</td>\n",
              "      <td>1</td>\n",
              "    </tr>\n",
              "  </tbody>\n",
              "</table>\n",
              "</div>\n",
              "    <div class=\"colab-df-buttons\">\n",
              "\n",
              "  <div class=\"colab-df-container\">\n",
              "    <button class=\"colab-df-convert\" onclick=\"convertToInteractive('df-7a77091f-29a9-4135-a7cf-3f07a8ad0c4e')\"\n",
              "            title=\"Convert this dataframe to an interactive table.\"\n",
              "            style=\"display:none;\">\n",
              "\n",
              "  <svg xmlns=\"http://www.w3.org/2000/svg\" height=\"24px\" viewBox=\"0 -960 960 960\">\n",
              "    <path d=\"M120-120v-720h720v720H120Zm60-500h600v-160H180v160Zm220 220h160v-160H400v160Zm0 220h160v-160H400v160ZM180-400h160v-160H180v160Zm440 0h160v-160H620v160ZM180-180h160v-160H180v160Zm440 0h160v-160H620v160Z\"/>\n",
              "  </svg>\n",
              "    </button>\n",
              "\n",
              "  <style>\n",
              "    .colab-df-container {\n",
              "      display:flex;\n",
              "      gap: 12px;\n",
              "    }\n",
              "\n",
              "    .colab-df-convert {\n",
              "      background-color: #E8F0FE;\n",
              "      border: none;\n",
              "      border-radius: 50%;\n",
              "      cursor: pointer;\n",
              "      display: none;\n",
              "      fill: #1967D2;\n",
              "      height: 32px;\n",
              "      padding: 0 0 0 0;\n",
              "      width: 32px;\n",
              "    }\n",
              "\n",
              "    .colab-df-convert:hover {\n",
              "      background-color: #E2EBFA;\n",
              "      box-shadow: 0px 1px 2px rgba(60, 64, 67, 0.3), 0px 1px 3px 1px rgba(60, 64, 67, 0.15);\n",
              "      fill: #174EA6;\n",
              "    }\n",
              "\n",
              "    .colab-df-buttons div {\n",
              "      margin-bottom: 4px;\n",
              "    }\n",
              "\n",
              "    [theme=dark] .colab-df-convert {\n",
              "      background-color: #3B4455;\n",
              "      fill: #D2E3FC;\n",
              "    }\n",
              "\n",
              "    [theme=dark] .colab-df-convert:hover {\n",
              "      background-color: #434B5C;\n",
              "      box-shadow: 0px 1px 3px 1px rgba(0, 0, 0, 0.15);\n",
              "      filter: drop-shadow(0px 1px 2px rgba(0, 0, 0, 0.3));\n",
              "      fill: #FFFFFF;\n",
              "    }\n",
              "  </style>\n",
              "\n",
              "    <script>\n",
              "      const buttonEl =\n",
              "        document.querySelector('#df-7a77091f-29a9-4135-a7cf-3f07a8ad0c4e button.colab-df-convert');\n",
              "      buttonEl.style.display =\n",
              "        google.colab.kernel.accessAllowed ? 'block' : 'none';\n",
              "\n",
              "      async function convertToInteractive(key) {\n",
              "        const element = document.querySelector('#df-7a77091f-29a9-4135-a7cf-3f07a8ad0c4e');\n",
              "        const dataTable =\n",
              "          await google.colab.kernel.invokeFunction('convertToInteractive',\n",
              "                                                    [key], {});\n",
              "        if (!dataTable) return;\n",
              "\n",
              "        const docLinkHtml = 'Like what you see? Visit the ' +\n",
              "          '<a target=\"_blank\" href=https://colab.research.google.com/notebooks/data_table.ipynb>data table notebook</a>'\n",
              "          + ' to learn more about interactive tables.';\n",
              "        element.innerHTML = '';\n",
              "        dataTable['output_type'] = 'display_data';\n",
              "        await google.colab.output.renderOutput(dataTable, element);\n",
              "        const docLink = document.createElement('div');\n",
              "        docLink.innerHTML = docLinkHtml;\n",
              "        element.appendChild(docLink);\n",
              "      }\n",
              "    </script>\n",
              "  </div>\n",
              "\n",
              "\n",
              "    <div id=\"df-f0bdec6f-fb19-4259-b3d6-fbdd8214eff6\">\n",
              "      <button class=\"colab-df-quickchart\" onclick=\"quickchart('df-f0bdec6f-fb19-4259-b3d6-fbdd8214eff6')\"\n",
              "                title=\"Suggest charts\"\n",
              "                style=\"display:none;\">\n",
              "\n",
              "<svg xmlns=\"http://www.w3.org/2000/svg\" height=\"24px\"viewBox=\"0 0 24 24\"\n",
              "     width=\"24px\">\n",
              "    <g>\n",
              "        <path d=\"M19 3H5c-1.1 0-2 .9-2 2v14c0 1.1.9 2 2 2h14c1.1 0 2-.9 2-2V5c0-1.1-.9-2-2-2zM9 17H7v-7h2v7zm4 0h-2V7h2v10zm4 0h-2v-4h2v4z\"/>\n",
              "    </g>\n",
              "</svg>\n",
              "      </button>\n",
              "\n",
              "<style>\n",
              "  .colab-df-quickchart {\n",
              "      --bg-color: #E8F0FE;\n",
              "      --fill-color: #1967D2;\n",
              "      --hover-bg-color: #E2EBFA;\n",
              "      --hover-fill-color: #174EA6;\n",
              "      --disabled-fill-color: #AAA;\n",
              "      --disabled-bg-color: #DDD;\n",
              "  }\n",
              "\n",
              "  [theme=dark] .colab-df-quickchart {\n",
              "      --bg-color: #3B4455;\n",
              "      --fill-color: #D2E3FC;\n",
              "      --hover-bg-color: #434B5C;\n",
              "      --hover-fill-color: #FFFFFF;\n",
              "      --disabled-bg-color: #3B4455;\n",
              "      --disabled-fill-color: #666;\n",
              "  }\n",
              "\n",
              "  .colab-df-quickchart {\n",
              "    background-color: var(--bg-color);\n",
              "    border: none;\n",
              "    border-radius: 50%;\n",
              "    cursor: pointer;\n",
              "    display: none;\n",
              "    fill: var(--fill-color);\n",
              "    height: 32px;\n",
              "    padding: 0;\n",
              "    width: 32px;\n",
              "  }\n",
              "\n",
              "  .colab-df-quickchart:hover {\n",
              "    background-color: var(--hover-bg-color);\n",
              "    box-shadow: 0 1px 2px rgba(60, 64, 67, 0.3), 0 1px 3px 1px rgba(60, 64, 67, 0.15);\n",
              "    fill: var(--button-hover-fill-color);\n",
              "  }\n",
              "\n",
              "  .colab-df-quickchart-complete:disabled,\n",
              "  .colab-df-quickchart-complete:disabled:hover {\n",
              "    background-color: var(--disabled-bg-color);\n",
              "    fill: var(--disabled-fill-color);\n",
              "    box-shadow: none;\n",
              "  }\n",
              "\n",
              "  .colab-df-spinner {\n",
              "    border: 2px solid var(--fill-color);\n",
              "    border-color: transparent;\n",
              "    border-bottom-color: var(--fill-color);\n",
              "    animation:\n",
              "      spin 1s steps(1) infinite;\n",
              "  }\n",
              "\n",
              "  @keyframes spin {\n",
              "    0% {\n",
              "      border-color: transparent;\n",
              "      border-bottom-color: var(--fill-color);\n",
              "      border-left-color: var(--fill-color);\n",
              "    }\n",
              "    20% {\n",
              "      border-color: transparent;\n",
              "      border-left-color: var(--fill-color);\n",
              "      border-top-color: var(--fill-color);\n",
              "    }\n",
              "    30% {\n",
              "      border-color: transparent;\n",
              "      border-left-color: var(--fill-color);\n",
              "      border-top-color: var(--fill-color);\n",
              "      border-right-color: var(--fill-color);\n",
              "    }\n",
              "    40% {\n",
              "      border-color: transparent;\n",
              "      border-right-color: var(--fill-color);\n",
              "      border-top-color: var(--fill-color);\n",
              "    }\n",
              "    60% {\n",
              "      border-color: transparent;\n",
              "      border-right-color: var(--fill-color);\n",
              "    }\n",
              "    80% {\n",
              "      border-color: transparent;\n",
              "      border-right-color: var(--fill-color);\n",
              "      border-bottom-color: var(--fill-color);\n",
              "    }\n",
              "    90% {\n",
              "      border-color: transparent;\n",
              "      border-bottom-color: var(--fill-color);\n",
              "    }\n",
              "  }\n",
              "</style>\n",
              "\n",
              "      <script>\n",
              "        async function quickchart(key) {\n",
              "          const quickchartButtonEl =\n",
              "            document.querySelector('#' + key + ' button');\n",
              "          quickchartButtonEl.disabled = true;  // To prevent multiple clicks.\n",
              "          quickchartButtonEl.classList.add('colab-df-spinner');\n",
              "          try {\n",
              "            const charts = await google.colab.kernel.invokeFunction(\n",
              "                'suggestCharts', [key], {});\n",
              "          } catch (error) {\n",
              "            console.error('Error during call to suggestCharts:', error);\n",
              "          }\n",
              "          quickchartButtonEl.classList.remove('colab-df-spinner');\n",
              "          quickchartButtonEl.classList.add('colab-df-quickchart-complete');\n",
              "        }\n",
              "        (() => {\n",
              "          let quickchartButtonEl =\n",
              "            document.querySelector('#df-f0bdec6f-fb19-4259-b3d6-fbdd8214eff6 button');\n",
              "          quickchartButtonEl.style.display =\n",
              "            google.colab.kernel.accessAllowed ? 'block' : 'none';\n",
              "        })();\n",
              "      </script>\n",
              "    </div>\n",
              "    </div>\n",
              "  </div>\n"
            ],
            "application/vnd.google.colaboratory.intrinsic+json": {
              "type": "dataframe",
              "variable_name": "extract_df",
              "summary": "{\n  \"name\": \"extract_df\",\n  \"rows\": 9998,\n  \"fields\": [\n    {\n      \"column\": \"Geography_Germany\",\n      \"properties\": {\n        \"dtype\": \"number\",\n        \"std\": 0.43358159003588614,\n        \"min\": 0.0,\n        \"max\": 1.0,\n        \"num_unique_values\": 2,\n        \"samples\": [\n          1.0,\n          0.0\n        ],\n        \"semantic_type\": \"\",\n        \"description\": \"\"\n      }\n    },\n    {\n      \"column\": \"Age\",\n      \"properties\": {\n        \"dtype\": \"number\",\n        \"std\": 0.14172938680493768,\n        \"min\": 0.0,\n        \"max\": 1.0000000000000002,\n        \"num_unique_values\": 73,\n        \"samples\": [\n          0.4324324324324324,\n          0.7162162162162162\n        ],\n        \"semantic_type\": \"\",\n        \"description\": \"\"\n      }\n    },\n    {\n      \"column\": \"Balance\",\n      \"properties\": {\n        \"dtype\": \"number\",\n        \"std\": 0.2486996753925756,\n        \"min\": 0.0,\n        \"max\": 1.0,\n        \"num_unique_values\": 6380,\n        \"samples\": [\n          0.7477226311288381,\n          0.2770804273559835\n        ],\n        \"semantic_type\": \"\",\n        \"description\": \"\"\n      }\n    },\n    {\n      \"column\": \"NumOfProducts\",\n      \"properties\": {\n        \"dtype\": \"number\",\n        \"std\": 0.1938897966885247,\n        \"min\": 0.0,\n        \"max\": 1.0,\n        \"num_unique_values\": 4,\n        \"samples\": [\n          0.6666666666666667,\n          1.0\n        ],\n        \"semantic_type\": \"\",\n        \"description\": \"\"\n      }\n    },\n    {\n      \"column\": \"CreditScore NumOfProducts\",\n      \"properties\": {\n        \"dtype\": \"number\",\n        \"std\": 0.13493666588235026,\n        \"min\": 0.0,\n        \"max\": 0.9999999999999999,\n        \"num_unique_values\": 1096,\n        \"samples\": [\n          0.09409836065573769,\n          0.2104918032786885\n        ],\n        \"semantic_type\": \"\",\n        \"description\": \"\"\n      }\n    },\n    {\n      \"column\": \"Age^2\",\n      \"properties\": {\n        \"dtype\": \"number\",\n        \"std\": 0.1158487895680328,\n        \"min\": 0.0,\n        \"max\": 0.9999999999999999,\n        \"num_unique_values\": 73,\n        \"samples\": [\n          0.2673218673218673,\n          0.5794840294840294\n        ],\n        \"semantic_type\": \"\",\n        \"description\": \"\"\n      }\n    },\n    {\n      \"column\": \"Age Balance\",\n      \"properties\": {\n        \"dtype\": \"number\",\n        \"std\": 0.19184231758564055,\n        \"min\": 0.0,\n        \"max\": 1.0,\n        \"num_unique_values\": 6381,\n        \"samples\": [\n          0.45417104684275306,\n          0.44403585897858405\n        ],\n        \"semantic_type\": \"\",\n        \"description\": \"\"\n      }\n    },\n    {\n      \"column\": \"Balance NumOfProducts\",\n      \"properties\": {\n        \"dtype\": \"number\",\n        \"std\": 0.13276613417682093,\n        \"min\": 0.0,\n        \"max\": 1.0,\n        \"num_unique_values\": 6381,\n        \"samples\": [\n          0.22288207400300422,\n          0.3407399491155142\n        ],\n        \"semantic_type\": \"\",\n        \"description\": \"\"\n      }\n    },\n    {\n      \"column\": \"NumOfProducts^2\",\n      \"properties\": {\n        \"dtype\": \"number\",\n        \"std\": 0.1392443775106497,\n        \"min\": 0.0,\n        \"max\": 1.0,\n        \"num_unique_values\": 4,\n        \"samples\": [\n          0.5333333333333333,\n          1.0\n        ],\n        \"semantic_type\": \"\",\n        \"description\": \"\"\n      }\n    },\n    {\n      \"column\": \"Gender\",\n      \"properties\": {\n        \"dtype\": \"number\",\n        \"std\": 0.49793119289748194,\n        \"min\": 0.0,\n        \"max\": 1.0,\n        \"num_unique_values\": 2,\n        \"samples\": [\n          1.0,\n          0.0\n        ],\n        \"semantic_type\": \"\",\n        \"description\": \"\"\n      }\n    },\n    {\n      \"column\": \"Exited\",\n      \"properties\": {\n        \"dtype\": \"number\",\n        \"std\": 0,\n        \"min\": 0,\n        \"max\": 1,\n        \"num_unique_values\": 2,\n        \"samples\": [\n          0,\n          1\n        ],\n        \"semantic_type\": \"\",\n        \"description\": \"\"\n      }\n    }\n  ]\n}"
            }
          },
          "metadata": {},
          "execution_count": 240
        }
      ]
    },
    {
      "cell_type": "markdown",
      "source": [
        "# Обучение моделей Линейной и Логистической регресии"
      ],
      "metadata": {
        "id": "ZruoutVJC-Bc"
      }
    },
    {
      "cell_type": "code",
      "source": [
        "row_df          # Первоначальные данные\n",
        "preprocessed_df # Предобработанные данные\n",
        "derived_df      # Сгенерированные признаки\n",
        "extract_df      # Отобранные признаки"
      ],
      "metadata": {
        "id": "ed-BwtOMKEGk"
      },
      "execution_count": null,
      "outputs": []
    }
  ]
}